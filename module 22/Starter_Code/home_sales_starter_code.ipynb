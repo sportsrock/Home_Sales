{
  "cells": [
    {
      "cell_type": "code",
      "source": [
        "import os\n",
        "# Find the latest version of spark 3.x  from http://www.apache.org/dist/spark/ and enter as the spark version\n",
        "spark_version = 'spark-3.5.0'\n",
        "os.environ['SPARK_VERSION']=spark_version\n",
        "\n",
        "# Install Spark and Java\n",
        "!apt-get update\n",
        "!apt-get install openjdk-11-jdk-headless -qq > /dev/null\n",
        "!wget -q http://www.apache.org/dist/spark/$SPARK_VERSION/$SPARK_VERSION-bin-hadoop3.tgz\n",
        "!tar xf $SPARK_VERSION-bin-hadoop3.tgz\n",
        "!pip install -q findspark\n",
        "\n",
        "# Set Environment Variables\n",
        "os.environ[\"JAVA_HOME\"] = \"/usr/lib/jvm/java-11-openjdk-amd64\"\n",
        "os.environ[\"SPARK_HOME\"] = f\"/content/{spark_version}-bin-hadoop3\"\n",
        "\n",
        "# Start a SparkSession\n",
        "import findspark\n",
        "findspark.init()"
      ],
      "metadata": {
        "colab": {
          "base_uri": "https://localhost:8080/"
        },
        "id": "g3reJqqCOdI7",
        "outputId": "599815bd-6af4-488d-c659-31349e822f66"
      },
      "execution_count": null,
      "outputs": [
        {
          "output_type": "stream",
          "name": "stdout",
          "text": [
            "\r0% [Working]\r            \rHit:1 http://archive.ubuntu.com/ubuntu jammy InRelease\n",
            "\r0% [Waiting for headers] [Connecting to security.ubuntu.com (185.125.190.39)] [Waiting for headers] \r                                                                                                    \rHit:2 http://archive.ubuntu.com/ubuntu jammy-updates InRelease\n",
            "\r0% [Waiting for headers] [Connecting to security.ubuntu.com (185.125.190.39)] [Waiting for headers] \r                                                                                                    \rHit:3 https://cloud.r-project.org/bin/linux/ubuntu jammy-cran40/ InRelease\n",
            "\r0% [Waiting for headers] [Connecting to security.ubuntu.com (185.125.190.39)] [Connecting to ppa.lau\r                                                                                                    \rHit:4 https://developer.download.nvidia.com/compute/cuda/repos/ubuntu2204/x86_64  InRelease\n",
            "\r0% [Waiting for headers] [Connecting to security.ubuntu.com (185.125.190.39)] [Connecting to ppa.lau\r                                                                                                    \rHit:5 http://archive.ubuntu.com/ubuntu jammy-backports InRelease\n",
            "Hit:6 http://security.ubuntu.com/ubuntu jammy-security InRelease\n",
            "Hit:7 https://ppa.launchpadcontent.net/c2d4u.team/c2d4u4.0+/ubuntu jammy InRelease\n",
            "Hit:8 https://ppa.launchpadcontent.net/deadsnakes/ppa/ubuntu jammy InRelease\n",
            "Hit:9 https://ppa.launchpadcontent.net/graphics-drivers/ppa/ubuntu jammy InRelease\n",
            "Hit:10 https://ppa.launchpadcontent.net/ubuntugis/ppa/ubuntu jammy InRelease\n",
            "Reading package lists... Done\n"
          ]
        }
      ]
    },
    {
      "cell_type": "code",
      "execution_count": null,
      "metadata": {
        "id": "2XbWNf1Te5fM"
      },
      "outputs": [],
      "source": [
        "# Import packages\n",
        "from pyspark.sql import SparkSession\n",
        "import time\n",
        "\n",
        "# Create a SparkSession\n",
        "spark = SparkSession.builder.appName(\"SparkSQL\").getOrCreate()"
      ]
    },
    {
      "cell_type": "code",
      "execution_count": null,
      "metadata": {
        "id": "wOJqxG_RPSwp"
      },
      "outputs": [],
      "source": [
        "\n",
        "# 1. Read in the AWS S3 bucket into a DataFrame.\n",
        "url = \"https://2u-data-curriculum-team.s3.amazonaws.com/dataviz-classroom/v1.2/22-big-data/home_sales_revised.csv\"\n",
        "spark.sparkContext.addFile(url)\n",
        "df = spark.read.csv(\"file://\" + SparkFiles.get(\"home_sales_revised.csv\"), header=True, inferSchema=True)\n",
        "\n",
        "# 2. Create a temporary view of the DataFrame.\n",
        "df.createOrReplaceTempView(\"home_sales_view\")\n",
        "\n"
      ]
    },
    {
      "cell_type": "code",
      "execution_count": null,
      "metadata": {
        "colab": {
          "base_uri": "https://localhost:8080/"
        },
        "id": "L6fkwOeOmqvq",
        "outputId": "d7bea7b8-3504-4e1d-9faa-877e44c89179"
      },
      "outputs": [
        {
          "output_type": "stream",
          "name": "stdout",
          "text": [
            "+--------+------------+\n",
            "|SaleYear|AveragePrice|\n",
            "+--------+------------+\n",
            "|    2019|    300263.7|\n",
            "|    2020|   298353.78|\n",
            "|    2021|   301819.44|\n",
            "|    2022|   296363.88|\n",
            "+--------+------------+\n",
            "\n"
          ]
        }
      ],
      "source": [
        "# 3. What is the average price for a four-bedroom house sold in each year rounded to two decimal places?\n",
        "query = \"\"\"\n",
        "SELECT\n",
        "    YEAR(date) AS SaleYear,\n",
        "    ROUND(AVG(price), 2) AS AveragePrice\n",
        "FROM\n",
        "    home_sales_view\n",
        "WHERE\n",
        "    bedrooms = 4\n",
        "GROUP BY\n",
        "    SaleYear\n",
        "ORDER BY\n",
        "    SaleYear\n",
        "\"\"\"\n",
        "\n",
        "result = spark.sql(query)\n",
        "result.show()\n",
        "\n",
        "\n"
      ]
    },
    {
      "cell_type": "code",
      "execution_count": null,
      "metadata": {
        "colab": {
          "base_uri": "https://localhost:8080/"
        },
        "id": "l8p_tUS8h8it",
        "outputId": "57907152-913a-44ec-d5d9-e527dafa0b84"
      },
      "outputs": [
        {
          "output_type": "stream",
          "name": "stdout",
          "text": [
            "+---------+------------+\n",
            "|YearBuilt|AveragePrice|\n",
            "+---------+------------+\n",
            "|     2010|   292859.62|\n",
            "|     2011|   291117.47|\n",
            "|     2012|   293683.19|\n",
            "|     2013|   295962.27|\n",
            "|     2014|   290852.27|\n",
            "|     2015|    288770.3|\n",
            "|     2016|   290555.07|\n",
            "|     2017|   292676.79|\n",
            "+---------+------------+\n",
            "\n"
          ]
        }
      ],
      "source": [
        "# 4. What is the average price of a home for each year the home was built that have 3 bedrooms and 3 bathrooms rounded to two decimal places?\n",
        "query = \"\"\"\n",
        "SELECT\n",
        "    date_built AS YearBuilt,\n",
        "    ROUND(AVG(price), 2) AS AveragePrice\n",
        "FROM\n",
        "    home_sales_view\n",
        "WHERE\n",
        "    bedrooms = 3\n",
        "    AND bathrooms = 3\n",
        "GROUP BY\n",
        "    YearBuilt\n",
        "ORDER BY\n",
        "    YearBuilt\n",
        "\"\"\"\n",
        "\n",
        "result = spark.sql(query)\n",
        "result.show()\n",
        "\n"
      ]
    },
    {
      "cell_type": "code",
      "execution_count": null,
      "metadata": {
        "colab": {
          "base_uri": "https://localhost:8080/"
        },
        "id": "Y-Eytz64liDU",
        "outputId": "3ce8c5af-c99b-465e-d40e-6303108c27a2"
      },
      "outputs": [
        {
          "output_type": "stream",
          "name": "stdout",
          "text": [
            "+---------+------------+\n",
            "|YearBuilt|AveragePrice|\n",
            "+---------+------------+\n",
            "|     2010|   285010.22|\n",
            "|     2011|   276553.81|\n",
            "|     2012|   307539.97|\n",
            "|     2013|   303676.79|\n",
            "|     2014|   298264.72|\n",
            "|     2015|   297609.97|\n",
            "|     2016|    293965.1|\n",
            "|     2017|   280317.58|\n",
            "+---------+------------+\n",
            "\n"
          ]
        }
      ],
      "source": [
        "\n",
        "# 5. What is the average price of a home for each year built that have 3 bedrooms, 3 bathrooms, with two floors,\n",
        "# and are greater than or equal to 2,000 square feet rounded to two decimal places?\n",
        "query = \"\"\"\n",
        "SELECT\n",
        "    date_built AS YearBuilt,\n",
        "    ROUND(AVG(price), 2) AS AveragePrice\n",
        "FROM\n",
        "    home_sales_view\n",
        "WHERE\n",
        "    bedrooms = 3\n",
        "    AND bathrooms = 3\n",
        "    AND floors = 2\n",
        "    AND sqft_living >= 2000\n",
        "GROUP BY\n",
        "    YearBuilt\n",
        "ORDER BY\n",
        "    YearBuilt\n",
        "\"\"\"\n",
        "\n",
        "result = spark.sql(query)\n",
        "result.show()\n"
      ]
    },
    {
      "cell_type": "code",
      "execution_count": null,
      "metadata": {
        "colab": {
          "base_uri": "https://localhost:8080/"
        },
        "id": "GUrfgOX1pCRd",
        "outputId": "4918668a-1c52-4cdc-a9b5-71f107231a6f"
      },
      "outputs": [
        {
          "output_type": "stream",
          "name": "stdout",
          "text": [
            "+----+------------+\n",
            "|view|AveragePrice|\n",
            "+----+------------+\n",
            "|   0|   403848.51|\n",
            "|   1|   401044.25|\n",
            "|   2|   397389.25|\n",
            "|   3|    398867.6|\n",
            "|   4|   399631.89|\n",
            "|   5|   401471.82|\n",
            "|   6|   395655.38|\n",
            "|   7|   403005.77|\n",
            "|   8|   398592.71|\n",
            "|   9|   401393.34|\n",
            "|  10|   401868.43|\n",
            "|  11|   399548.12|\n",
            "|  12|   401501.32|\n",
            "|  13|   398917.98|\n",
            "|  14|   398570.03|\n",
            "|  15|    404673.3|\n",
            "|  16|   399586.53|\n",
            "|  17|   398474.49|\n",
            "|  18|   399332.91|\n",
            "|  19|   398953.17|\n",
            "+----+------------+\n",
            "only showing top 20 rows\n",
            "\n",
            "--- 0.8750758171081543 seconds ---\n"
          ]
        }
      ],
      "source": [
        "# 6. What is the \"view\" rating for the average price of a home, rounded to two decimal places,\n",
        "# where the homes are greater than or equal to $350,000?\n",
        "query = \"\"\"\n",
        "SELECT\n",
        "    view,\n",
        "    ROUND(AVG(price), 2) AS AveragePrice\n",
        "FROM\n",
        "    home_sales_view\n",
        "WHERE\n",
        "    price >= 350000\n",
        "GROUP BY\n",
        "    view\n",
        "ORDER BY\n",
        "    view\n",
        "\"\"\"\n",
        "\n",
        "start_time = time.time()\n",
        "\n",
        "result = spark.sql(query)\n",
        "result.show()\n",
        "\n",
        "print(\"--- %s seconds ---\" % (time.time() - start_time))\n"
      ]
    },
    {
      "cell_type": "code",
      "execution_count": null,
      "metadata": {
        "colab": {
          "base_uri": "https://localhost:8080/"
        },
        "id": "KAhk3ZD2tFy8",
        "outputId": "1eab9a3c-7bf0-4ded-a37a-bf480d2a2a33"
      },
      "outputs": [
        {
          "output_type": "stream",
          "name": "stdout",
          "text": [
            "+--------+------------+\n",
            "|SaleYear|AveragePrice|\n",
            "+--------+------------+\n",
            "|    2019|    300263.7|\n",
            "|    2020|   298353.78|\n",
            "|    2021|   301819.44|\n",
            "|    2022|   296363.88|\n",
            "+--------+------------+\n",
            "\n"
          ]
        }
      ],
      "source": [
        "# 7. Cache the the temporary table home_sales.\n",
        "# Cache the temporary table home_sales_view\n",
        "spark.sql(\"CACHE TABLE home_sales_view\")\n",
        "\n",
        "# Now, you can run your queries on the cached table\n",
        "# For example, let's rerun the first query to find the average price for a four-bedroom house sold in each year rounded to two decimal places:\n",
        "\n",
        "# 3. What is the average price for a four-bedroom house sold in each year rounded to two decimal places?\n",
        "query_3 = \"\"\"\n",
        "SELECT\n",
        "    YEAR(date) AS SaleYear,\n",
        "    ROUND(AVG(price), 2) AS AveragePrice\n",
        "FROM\n",
        "    home_sales_view\n",
        "WHERE\n",
        "    bedrooms = 4\n",
        "GROUP BY\n",
        "    SaleYear\n",
        "ORDER BY\n",
        "    SaleYear\n",
        "\"\"\"\n",
        "\n",
        "result_3 = spark.sql(query_3)\n",
        "result_3.show()\n"
      ]
    },
    {
      "cell_type": "code",
      "execution_count": null,
      "metadata": {
        "colab": {
          "base_uri": "https://localhost:8080/"
        },
        "id": "4opVhbvxtL-i",
        "outputId": "d3a8636d-a361-4c38-b705-827af7dddc3c"
      },
      "outputs": [
        {
          "output_type": "execute_result",
          "data": {
            "text/plain": [
              "True"
            ]
          },
          "metadata": {},
          "execution_count": 13
        }
      ],
      "source": [
        "# 8. Check if the table is cached.\n",
        "spark.catalog.isCached('home_sales_view')\n"
      ]
    },
    {
      "cell_type": "code",
      "execution_count": null,
      "metadata": {
        "colab": {
          "base_uri": "https://localhost:8080/"
        },
        "id": "5GnL46lwTSEk",
        "outputId": "79182a84-a6b3-4cc5-d99c-b96cc0185994"
      },
      "outputs": [
        {
          "output_type": "stream",
          "name": "stdout",
          "text": [
            "+----+------------+\n",
            "|view|AveragePrice|\n",
            "+----+------------+\n",
            "|   0|   403848.51|\n",
            "|   1|   401044.25|\n",
            "|   2|   397389.25|\n",
            "|   3|    398867.6|\n",
            "|   4|   399631.89|\n",
            "|   5|   401471.82|\n",
            "|   6|   395655.38|\n",
            "|   7|   403005.77|\n",
            "|   8|   398592.71|\n",
            "|   9|   401393.34|\n",
            "|  10|   401868.43|\n",
            "|  11|   399548.12|\n",
            "|  12|   401501.32|\n",
            "|  13|   398917.98|\n",
            "|  14|   398570.03|\n",
            "|  15|    404673.3|\n",
            "|  16|   399586.53|\n",
            "|  17|   398474.49|\n",
            "|  18|   399332.91|\n",
            "|  19|   398953.17|\n",
            "+----+------------+\n",
            "only showing top 20 rows\n",
            "\n",
            "--- 0.47432422637939453 seconds ---\n"
          ]
        }
      ],
      "source": [
        "# Using the cached data, run the query that filters out the view ratings with average price greater than or equal to $350,000\n",
        "query_cached = \"\"\"\n",
        "SELECT\n",
        "    view,\n",
        "    ROUND(AVG(price), 2) AS AveragePrice\n",
        "FROM\n",
        "    home_sales_view\n",
        "WHERE\n",
        "    price >= 350000\n",
        "GROUP BY\n",
        "    view\n",
        "ORDER BY\n",
        "    view\n",
        "\"\"\"\n",
        "\n",
        "start_time_cached = time.time()\n",
        "\n",
        "result_cached = spark.sql(query_cached)\n",
        "result_cached.show()\n",
        "\n",
        "print(\"--- %s seconds ---\" % (time.time() - start_time_cached))\n",
        "\n"
      ]
    },
    {
      "cell_type": "code",
      "execution_count": null,
      "metadata": {
        "id": "Qm12WN9isHBR"
      },
      "outputs": [],
      "source": [
        "\n",
        "\n",
        "# 10. Partition by the \"date_built\" field on the formatted parquet home sales data\n",
        "df.write.partitionBy(\"date_built\").parquet(\"/path/to/save/parquet\")\n"
      ]
    },
    {
      "cell_type": "code",
      "execution_count": null,
      "metadata": {
        "id": "AZ7BgY61sRqY",
        "colab": {
          "base_uri": "https://localhost:8080/"
        },
        "outputId": "3539c536-2a9a-4bd7-bccd-833b16a6dda9"
      },
      "outputs": [
        {
          "output_type": "stream",
          "name": "stdout",
          "text": [
            "+--------------------+----------+------+--------+---------+-----------+--------+------+----------+----+----------+\n",
            "|                  id|      date| price|bedrooms|bathrooms|sqft_living|sqft_lot|floors|waterfront|view|date_built|\n",
            "+--------------------+----------+------+--------+---------+-----------+--------+------+----------+----+----------+\n",
            "|2ed8d509-7372-46d...|2021-08-06|258710|       3|        3|       1918|    9666|     1|         0|  25|      2015|\n",
            "|941bad30-eb49-4a7...|2020-05-09|229896|       3|        3|       2197|    8641|     1|         0|   3|      2015|\n",
            "|c797ca12-52cd-4b1...|2019-06-08|288650|       2|        3|       2100|   10419|     2|         0|   7|      2015|\n",
            "|0cfe57f3-28c2-472...|2019-10-04|308313|       3|        3|       1960|    9453|     2|         0|   2|      2015|\n",
            "|d715f295-2fbf-4e9...|2021-05-17|391574|       3|        2|       1635|    8040|     2|         0|  10|      2015|\n",
            "|a18515a2-86f3-46b...|2022-02-18|419543|       3|        2|       1642|   12826|     2|         0|  24|      2015|\n",
            "|98f6a9ad-8870-474...|2022-05-07|136752|       2|        3|       1701|   10771|     2|         0|   5|      2015|\n",
            "|7ac67498-b6f3-403...|2021-05-12|349318|       4|        3|       2417|   11304|     2|         0|  37|      2015|\n",
            "|c9bfdb1c-2499-4e3...|2021-12-07|268874|       2|        2|       1537|   12177|     1|         0|  10|      2015|\n",
            "|34c31a34-220d-469...|2019-02-06|409011|       3|        3|       2356|   10507|     1|         0|   1|      2015|\n",
            "|be0ccb95-415d-411...|2020-05-15|425154|       4|        3|       2120|   14229|     2|         0|   4|      2015|\n",
            "|e9031a86-1294-444...|2021-10-09|222322|       4|        3|       1928|   10510|     1|         0|  38|      2015|\n",
            "|e6d7c2a7-596e-4ec...|2019-03-15|131201|       4|        3|       1633|   14655|     1|         0|  22|      2015|\n",
            "|6683714b-3df7-454...|2022-02-01|333403|       4|        2|       2059|    9793|     2|         0|   4|      2015|\n",
            "|00fc996f-508c-430...|2021-07-15|373139|       3|        3|       1763|   11363|     1|         0|  39|      2015|\n",
            "|3d5545f8-bd3b-476...|2020-09-19|797862|       4|        6|       3494|   10385|     2|         0|  90|      2015|\n",
            "|ec6d357c-2435-43e...|2019-05-28|401792|       3|        2|       1627|   10765|     1|         0|  50|      2015|\n",
            "|c2be38fb-814a-403...|2020-03-20|352237|       3|        3|       2485|   10954|     2|         0|   6|      2015|\n",
            "|9570de1f-5a74-45b...|2021-11-29|298453|       3|        2|       2222|   10634|     1|         0|   6|      2015|\n",
            "|1baeff4f-fc00-489...|2020-12-17|152775|       3|        2|       1623|   13851|     1|         0|  41|      2015|\n",
            "+--------------------+----------+------+--------+---------+-----------+--------+------+----------+----+----------+\n",
            "only showing top 20 rows\n",
            "\n"
          ]
        }
      ],
      "source": [
        "# 11. Read the formatted parquet data.\n",
        "parquet_data = spark.read.parquet(\"/path/to/save/parquet\")\n",
        "\n",
        "# Show the first few rows of the DataFrame\n",
        "parquet_data.show()\n"
      ]
    },
    {
      "cell_type": "code",
      "execution_count": null,
      "metadata": {
        "id": "J6MJkHfvVcvh"
      },
      "outputs": [],
      "source": [
        "# 12. Create a temporary table for the parquet data.\n",
        "parquet_data.createOrReplaceTempView(\"parquet_table\")\n",
        "\n"
      ]
    },
    {
      "cell_type": "code",
      "execution_count": null,
      "metadata": {
        "colab": {
          "base_uri": "https://localhost:8080/"
        },
        "id": "G_Vhb52rU1Sn",
        "outputId": "3b92ddb9-cc8a-48d7-8687-75ebf74b8034"
      },
      "outputs": [
        {
          "output_type": "stream",
          "name": "stdout",
          "text": [
            "+----+------------+\n",
            "|view|AveragePrice|\n",
            "+----+------------+\n",
            "|   0|   403848.51|\n",
            "|   1|   401044.25|\n",
            "|   2|   397389.25|\n",
            "|   3|    398867.6|\n",
            "|   4|   399631.89|\n",
            "|   5|   401471.82|\n",
            "|   6|   395655.38|\n",
            "|   7|   403005.77|\n",
            "|   8|   398592.71|\n",
            "|   9|   401393.34|\n",
            "|  10|   401868.43|\n",
            "|  11|   399548.12|\n",
            "|  12|   401501.32|\n",
            "|  13|   398917.98|\n",
            "|  14|   398570.03|\n",
            "|  15|    404673.3|\n",
            "|  16|   399586.53|\n",
            "|  17|   398474.49|\n",
            "|  18|   399332.91|\n",
            "|  19|   398953.17|\n",
            "+----+------------+\n",
            "only showing top 20 rows\n",
            "\n",
            "--- 0.8140139579772949 seconds ---\n"
          ]
        }
      ],
      "source": [
        "# 13. Run the query with the parquet DataFrame\n",
        "query_parquet = \"\"\"\n",
        "SELECT\n",
        "    view,\n",
        "    ROUND(AVG(price), 2) AS AveragePrice\n",
        "FROM\n",
        "    parquet_table\n",
        "WHERE\n",
        "    price >= 350000\n",
        "GROUP BY\n",
        "    view\n",
        "ORDER BY\n",
        "    view\n",
        "\"\"\"\n",
        "\n",
        "start_time_parquet = time.time()\n",
        "\n",
        "result_parquet = spark.sql(query_parquet)\n",
        "result_parquet.show()\n",
        "\n",
        "print(\"--- %s seconds ---\" % (time.time() - start_time_parquet))\n"
      ]
    },
    {
      "cell_type": "code",
      "execution_count": null,
      "metadata": {
        "id": "hjjYzQGjtbq8"
      },
      "outputs": [],
      "source": [
        "# 14. Uncache the home_sales temporary table.\n",
        "spark.catalog.uncacheTable(\"home_sales_view\")\n"
      ]
    },
    {
      "cell_type": "code",
      "execution_count": null,
      "metadata": {
        "colab": {
          "base_uri": "https://localhost:8080/"
        },
        "id": "Sy9NBvO7tlmm",
        "outputId": "a3804a1e-f4bd-4241-e680-2e463d11a829"
      },
      "outputs": [
        {
          "output_type": "stream",
          "name": "stdout",
          "text": [
            "Is home_sales_view cached? False\n"
          ]
        }
      ],
      "source": [
        "\n",
        "# 15. Check if the home_sales is no longer cached\n",
        "is_cached = spark.catalog.isCached('home_sales_view')\n",
        "print(\"Is home_sales_view cached?\", is_cached)\n"
      ]
    },
    {
      "cell_type": "code",
      "execution_count": null,
      "metadata": {
        "id": "cghQVvE9ODd_"
      },
      "outputs": [],
      "source": []
    }
  ],
  "metadata": {
    "colab": {
      "provenance": []
    },
    "kernelspec": {
      "display_name": "Python 3 (ipykernel)",
      "language": "python",
      "name": "python3"
    },
    "language_info": {
      "codemirror_mode": {
        "name": "ipython",
        "version": 3
      },
      "file_extension": ".py",
      "mimetype": "text/x-python",
      "name": "python",
      "nbconvert_exporter": "python",
      "pygments_lexer": "ipython3",
      "version": "3.10.9"
    },
    "nteract": {
      "version": "0.28.0"
    }
  },
  "nbformat": 4,
  "nbformat_minor": 0
}